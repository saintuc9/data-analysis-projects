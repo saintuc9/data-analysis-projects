{
 "cells": [
  {
   "cell_type": "code",
   "execution_count": 28,
   "id": "b6460e8a-ca70-4f77-a057-9214aa24a11e",
   "metadata": {},
   "outputs": [],
   "source": [
    "import pandas as pd"
   ]
  },
  {
   "cell_type": "code",
   "execution_count": 29,
   "id": "90ac001a-b599-4481-a2e5-bff55eee26b9",
   "metadata": {},
   "outputs": [],
   "source": [
    "df = pd.read_csv('car_sales_data.csv')"
   ]
  },
  {
   "cell_type": "code",
   "execution_count": 30,
   "id": "75f47429-189b-4e90-81a3-7d8e76db8365",
   "metadata": {},
   "outputs": [
    {
     "data": {
      "text/html": [
       "<div>\n",
       "<style scoped>\n",
       "    .dataframe tbody tr th:only-of-type {\n",
       "        vertical-align: middle;\n",
       "    }\n",
       "\n",
       "    .dataframe tbody tr th {\n",
       "        vertical-align: top;\n",
       "    }\n",
       "\n",
       "    .dataframe thead th {\n",
       "        text-align: right;\n",
       "    }\n",
       "</style>\n",
       "<table border=\"1\" class=\"dataframe\">\n",
       "  <thead>\n",
       "    <tr style=\"text-align: right;\">\n",
       "      <th></th>\n",
       "      <th>sale_id</th>\n",
       "      <th>model</th>\n",
       "      <th>date</th>\n",
       "      <th>customer_name</th>\n",
       "      <th>price</th>\n",
       "    </tr>\n",
       "  </thead>\n",
       "  <tbody>\n",
       "    <tr>\n",
       "      <th>0</th>\n",
       "      <td>1</td>\n",
       "      <td>Toyota Camry</td>\n",
       "      <td>2024-05-29</td>\n",
       "      <td>David Kim</td>\n",
       "      <td>28860</td>\n",
       "    </tr>\n",
       "    <tr>\n",
       "      <th>1</th>\n",
       "      <td>2</td>\n",
       "      <td>Tesla Model 3</td>\n",
       "      <td>2024-05-08</td>\n",
       "      <td>Ngozi Uche</td>\n",
       "      <td>46772</td>\n",
       "    </tr>\n",
       "    <tr>\n",
       "      <th>2</th>\n",
       "      <td>3</td>\n",
       "      <td>Hyundai Elantra</td>\n",
       "      <td>2024-02-24</td>\n",
       "      <td>David Kim</td>\n",
       "      <td>23092</td>\n",
       "    </tr>\n",
       "    <tr>\n",
       "      <th>3</th>\n",
       "      <td>4</td>\n",
       "      <td>Ford Mustang</td>\n",
       "      <td>2024-04-29</td>\n",
       "      <td>Mary Johnson</td>\n",
       "      <td>33466</td>\n",
       "    </tr>\n",
       "    <tr>\n",
       "      <th>4</th>\n",
       "      <td>5</td>\n",
       "      <td>Honda Accord</td>\n",
       "      <td>2024-05-19</td>\n",
       "      <td>Linda Park</td>\n",
       "      <td>30426</td>\n",
       "    </tr>\n",
       "  </tbody>\n",
       "</table>\n",
       "</div>"
      ],
      "text/plain": [
       "   sale_id            model        date customer_name  price\n",
       "0        1     Toyota Camry  2024-05-29     David Kim  28860\n",
       "1        2    Tesla Model 3  2024-05-08    Ngozi Uche  46772\n",
       "2        3  Hyundai Elantra  2024-02-24     David Kim  23092\n",
       "3        4     Ford Mustang  2024-04-29  Mary Johnson  33466\n",
       "4        5     Honda Accord  2024-05-19    Linda Park  30426"
      ]
     },
     "execution_count": 30,
     "metadata": {},
     "output_type": "execute_result"
    }
   ],
   "source": [
    "df.head()"
   ]
  },
  {
   "cell_type": "code",
   "execution_count": 31,
   "id": "36dfe764-8211-4961-902f-c0dc217e9851",
   "metadata": {},
   "outputs": [
    {
     "data": {
      "text/plain": [
       "sale_id           int64\n",
       "model            object\n",
       "date             object\n",
       "customer_name    object\n",
       "price             int64\n",
       "dtype: object"
      ]
     },
     "execution_count": 31,
     "metadata": {},
     "output_type": "execute_result"
    }
   ],
   "source": [
    "df.dtypes"
   ]
  },
  {
   "cell_type": "code",
   "execution_count": 32,
   "id": "e15d8b4d-e56a-48db-b371-979fbb9fbc5c",
   "metadata": {},
   "outputs": [
    {
     "data": {
      "text/html": [
       "<div>\n",
       "<style scoped>\n",
       "    .dataframe tbody tr th:only-of-type {\n",
       "        vertical-align: middle;\n",
       "    }\n",
       "\n",
       "    .dataframe tbody tr th {\n",
       "        vertical-align: top;\n",
       "    }\n",
       "\n",
       "    .dataframe thead th {\n",
       "        text-align: right;\n",
       "    }\n",
       "</style>\n",
       "<table border=\"1\" class=\"dataframe\">\n",
       "  <thead>\n",
       "    <tr style=\"text-align: right;\">\n",
       "      <th></th>\n",
       "      <th>sale_id</th>\n",
       "      <th>price</th>\n",
       "    </tr>\n",
       "  </thead>\n",
       "  <tbody>\n",
       "    <tr>\n",
       "      <th>count</th>\n",
       "      <td>100.000000</td>\n",
       "      <td>100.000000</td>\n",
       "    </tr>\n",
       "    <tr>\n",
       "      <th>mean</th>\n",
       "      <td>50.500000</td>\n",
       "      <td>33242.540000</td>\n",
       "    </tr>\n",
       "    <tr>\n",
       "      <th>std</th>\n",
       "      <td>29.011492</td>\n",
       "      <td>7876.746107</td>\n",
       "    </tr>\n",
       "    <tr>\n",
       "      <th>min</th>\n",
       "      <td>1.000000</td>\n",
       "      <td>20189.000000</td>\n",
       "    </tr>\n",
       "    <tr>\n",
       "      <th>25%</th>\n",
       "      <td>25.750000</td>\n",
       "      <td>28058.250000</td>\n",
       "    </tr>\n",
       "    <tr>\n",
       "      <th>50%</th>\n",
       "      <td>50.500000</td>\n",
       "      <td>31721.500000</td>\n",
       "    </tr>\n",
       "    <tr>\n",
       "      <th>75%</th>\n",
       "      <td>75.250000</td>\n",
       "      <td>37361.500000</td>\n",
       "    </tr>\n",
       "    <tr>\n",
       "      <th>max</th>\n",
       "      <td>100.000000</td>\n",
       "      <td>47875.000000</td>\n",
       "    </tr>\n",
       "  </tbody>\n",
       "</table>\n",
       "</div>"
      ],
      "text/plain": [
       "          sale_id         price\n",
       "count  100.000000    100.000000\n",
       "mean    50.500000  33242.540000\n",
       "std     29.011492   7876.746107\n",
       "min      1.000000  20189.000000\n",
       "25%     25.750000  28058.250000\n",
       "50%     50.500000  31721.500000\n",
       "75%     75.250000  37361.500000\n",
       "max    100.000000  47875.000000"
      ]
     },
     "execution_count": 32,
     "metadata": {},
     "output_type": "execute_result"
    }
   ],
   "source": [
    "df.describe()"
   ]
  },
  {
   "cell_type": "code",
   "execution_count": 33,
   "id": "da82d018-3453-40d7-b6eb-037aed032e07",
   "metadata": {},
   "outputs": [
    {
     "data": {
      "text/plain": [
       "sale_id          0\n",
       "model            0\n",
       "date             0\n",
       "customer_name    0\n",
       "price            0\n",
       "dtype: int64"
      ]
     },
     "execution_count": 33,
     "metadata": {},
     "output_type": "execute_result"
    }
   ],
   "source": [
    "df.isnull().sum()"
   ]
  },
  {
   "cell_type": "code",
   "execution_count": 34,
   "id": "ee847ba7-f8c1-4a9d-880c-e512e347f334",
   "metadata": {},
   "outputs": [
    {
     "data": {
      "text/plain": [
       "((100, 5), 500)"
      ]
     },
     "execution_count": 34,
     "metadata": {},
     "output_type": "execute_result"
    }
   ],
   "source": [
    "df.shape, df.size"
   ]
  },
  {
   "cell_type": "code",
   "execution_count": 35,
   "id": "680c443e-de4e-485d-80cb-fbb4c20bebb1",
   "metadata": {},
   "outputs": [
    {
     "name": "stdout",
     "output_type": "stream",
     "text": [
      "total sales : 100\n"
     ]
    }
   ],
   "source": [
    "total_sales = len(df)\n",
    "print(f'total sales : {total_sales}')"
   ]
  },
  {
   "cell_type": "code",
   "execution_count": 36,
   "id": "1da847ce-aa32-47c0-8406-ae216d9705b3",
   "metadata": {},
   "outputs": [
    {
     "name": "stdout",
     "output_type": "stream",
     "text": [
      "average sale price : 33242.54\n"
     ]
    }
   ],
   "source": [
    "avg_price = df['price'].mean()\n",
    "print(f'average sale price : {avg_price}')"
   ]
  },
  {
   "cell_type": "code",
   "execution_count": 37,
   "id": "7f8ca178-37e0-41c7-8d0f-7cede9487a8e",
   "metadata": {},
   "outputs": [
    {
     "name": "stdout",
     "output_type": "stream",
     "text": [
      "total revenue : 3324254\n"
     ]
    }
   ],
   "source": [
    "total_revenue = df['price'].sum()\n",
    "print(f'total revenue : {total_revenue}')"
   ]
  },
  {
   "cell_type": "code",
   "execution_count": 38,
   "id": "5c08b58a-21a5-430b-accb-de0225b9d631",
   "metadata": {},
   "outputs": [
    {
     "data": {
      "text/plain": [
       "model\n",
       "Toyota Camry       25\n",
       "Tesla Model 3      24\n",
       "Honda Accord       18\n",
       "Ford Mustang       17\n",
       "Hyundai Elantra    16\n",
       "dtype: int64"
      ]
     },
     "execution_count": 38,
     "metadata": {},
     "output_type": "execute_result"
    }
   ],
   "source": [
    "sales_per_model = df.groupby('model').size().sort_values(ascending=False)\n",
    "sales_per_model"
   ]
  },
  {
   "cell_type": "code",
   "execution_count": 39,
   "id": "1f94988c-27e5-4b3d-91c3-f0c67c97cf2c",
   "metadata": {},
   "outputs": [
    {
     "data": {
      "text/plain": [
       "np.float64(20.0)"
      ]
     },
     "execution_count": 39,
     "metadata": {},
     "output_type": "execute_result"
    }
   ],
   "source": [
    "avg_price_per_model = df.groupby('model')['price'].size().mean()\n",
    "avg_price_per_model"
   ]
  },
  {
   "cell_type": "code",
   "execution_count": 40,
   "id": "389c0147-96aa-42ba-bc5b-61946b44e4a6",
   "metadata": {},
   "outputs": [
    {
     "data": {
      "text/plain": [
       "customer_name\n",
       "Carlos Diaz     496024\n",
       "David Kim       468928\n",
       "Ngozi Uche      451281\n",
       "Ali Bello       428382\n",
       "Emma Okafor     391844\n",
       "Linda Park      369183\n",
       "Mary Johnson    360328\n",
       "John Smith      358284\n",
       "Name: price, dtype: int64"
      ]
     },
     "execution_count": 40,
     "metadata": {},
     "output_type": "execute_result"
    }
   ],
   "source": [
    "revenue_per_customer = df.groupby('customer_name')['price'].sum().sort_values(ascending=False)\n",
    "revenue_per_customer"
   ]
  },
  {
   "cell_type": "code",
   "execution_count": 41,
   "id": "ae7d9674-4776-4139-a3bf-a08117a0b462",
   "metadata": {},
   "outputs": [],
   "source": [
    "df['date'] = pd.to_datetime(df['date'])"
   ]
  },
  {
   "cell_type": "code",
   "execution_count": 42,
   "id": "629ae693-4685-4505-95a3-575ba7ed9a6d",
   "metadata": {},
   "outputs": [],
   "source": [
    "df['month'] = df['date'].dt.to_period('M')"
   ]
  },
  {
   "cell_type": "code",
   "execution_count": 43,
   "id": "bd625887-fab8-4daf-97ed-3f9b3053164b",
   "metadata": {},
   "outputs": [],
   "source": [
    "monthly_sales = df.groupby('month').size()"
   ]
  },
  {
   "cell_type": "code",
   "execution_count": 44,
   "id": "f5404ac9-4bc1-45ba-9441-d615e92f3a4f",
   "metadata": {},
   "outputs": [
    {
     "data": {
      "text/plain": [
       "month\n",
       "2024-01    14\n",
       "2024-02    20\n",
       "2024-03    18\n",
       "2024-04    18\n",
       "2024-05    14\n",
       "2024-06    16\n",
       "Freq: M, dtype: int64"
      ]
     },
     "execution_count": 44,
     "metadata": {},
     "output_type": "execute_result"
    }
   ],
   "source": [
    "monthly_sales"
   ]
  },
  {
   "cell_type": "code",
   "execution_count": 45,
   "id": "1e02439a-5ee0-4168-9771-5cc02d34c758",
   "metadata": {},
   "outputs": [
    {
     "data": {
      "text/plain": [
       "month\n",
       "2024-01    459344\n",
       "2024-02    646375\n",
       "2024-03    578119\n",
       "2024-04    635174\n",
       "2024-05    450772\n",
       "2024-06    554470\n",
       "Freq: M, Name: price, dtype: int64"
      ]
     },
     "execution_count": 45,
     "metadata": {},
     "output_type": "execute_result"
    }
   ],
   "source": [
    "monthly_revenue = df.groupby('month')['price'].sum()\n",
    "monthly_revenue"
   ]
  },
  {
   "cell_type": "code",
   "execution_count": 46,
   "id": "4a5e2431-e1ff-4baa-a85b-992678ea8a9a",
   "metadata": {},
   "outputs": [
    {
     "data": {
      "text/html": [
       "<div>\n",
       "<style scoped>\n",
       "    .dataframe tbody tr th:only-of-type {\n",
       "        vertical-align: middle;\n",
       "    }\n",
       "\n",
       "    .dataframe tbody tr th {\n",
       "        vertical-align: top;\n",
       "    }\n",
       "\n",
       "    .dataframe thead th {\n",
       "        text-align: right;\n",
       "    }\n",
       "</style>\n",
       "<table border=\"1\" class=\"dataframe\">\n",
       "  <thead>\n",
       "    <tr style=\"text-align: right;\">\n",
       "      <th></th>\n",
       "      <th>sale_id</th>\n",
       "      <th>model</th>\n",
       "      <th>date</th>\n",
       "      <th>customer_name</th>\n",
       "      <th>price</th>\n",
       "      <th>month</th>\n",
       "    </tr>\n",
       "  </thead>\n",
       "  <tbody>\n",
       "    <tr>\n",
       "      <th>0</th>\n",
       "      <td>1</td>\n",
       "      <td>Toyota Camry</td>\n",
       "      <td>2024-05-29</td>\n",
       "      <td>David Kim</td>\n",
       "      <td>28860</td>\n",
       "      <td>2024-05</td>\n",
       "    </tr>\n",
       "    <tr>\n",
       "      <th>1</th>\n",
       "      <td>2</td>\n",
       "      <td>Tesla Model 3</td>\n",
       "      <td>2024-05-08</td>\n",
       "      <td>Ngozi Uche</td>\n",
       "      <td>46772</td>\n",
       "      <td>2024-05</td>\n",
       "    </tr>\n",
       "    <tr>\n",
       "      <th>2</th>\n",
       "      <td>3</td>\n",
       "      <td>Hyundai Elantra</td>\n",
       "      <td>2024-02-24</td>\n",
       "      <td>David Kim</td>\n",
       "      <td>23092</td>\n",
       "      <td>2024-02</td>\n",
       "    </tr>\n",
       "    <tr>\n",
       "      <th>3</th>\n",
       "      <td>4</td>\n",
       "      <td>Ford Mustang</td>\n",
       "      <td>2024-04-29</td>\n",
       "      <td>Mary Johnson</td>\n",
       "      <td>33466</td>\n",
       "      <td>2024-04</td>\n",
       "    </tr>\n",
       "    <tr>\n",
       "      <th>4</th>\n",
       "      <td>5</td>\n",
       "      <td>Honda Accord</td>\n",
       "      <td>2024-05-19</td>\n",
       "      <td>Linda Park</td>\n",
       "      <td>30426</td>\n",
       "      <td>2024-05</td>\n",
       "    </tr>\n",
       "  </tbody>\n",
       "</table>\n",
       "</div>"
      ],
      "text/plain": [
       "   sale_id            model       date customer_name  price    month\n",
       "0        1     Toyota Camry 2024-05-29     David Kim  28860  2024-05\n",
       "1        2    Tesla Model 3 2024-05-08    Ngozi Uche  46772  2024-05\n",
       "2        3  Hyundai Elantra 2024-02-24     David Kim  23092  2024-02\n",
       "3        4     Ford Mustang 2024-04-29  Mary Johnson  33466  2024-04\n",
       "4        5     Honda Accord 2024-05-19    Linda Park  30426  2024-05"
      ]
     },
     "execution_count": 46,
     "metadata": {},
     "output_type": "execute_result"
    }
   ],
   "source": [
    "df.head()"
   ]
  },
  {
   "cell_type": "code",
   "execution_count": 53,
   "id": "670eba00-6521-4ae9-b05b-e2071370741d",
   "metadata": {},
   "outputs": [
    {
     "data": {
      "image/png": "[encoded data removed]",
      "text/plain": [
       "<Figure size 640x480 with 1 Axes>"
      ]
     },
     "metadata": {},
     "output_type": "display_data"
    }
   ],
   "source": [
    "import matplotlib.pyplot as plt\n",
    "plt.bar(monthly_sales.index.astype(str), monthly_sales.values)\n",
    "plt.title('monthly sales')\n",
    "plt.ylabel('number of sales')\n",
    "plt.xlabel('month')\n",
    "plt.xticks(rotation=45)\n",
    "plt.tight_layout()\n",
    "plt.savefig('bar_chart.png', dpi=300)\n",
    "plt.show()"
   ]
  },
  {
   "cell_type": "code",
   "execution_count": 57,
   "id": "03d9d74a-30cb-48b3-817f-c6e5e86c2dda",
   "metadata": {},
   "outputs": [
    {
     "data": {
      "image/png": "[encoded data removed]",
      "text/plain": [
       "<Figure size 640x480 with 1 Axes>"
      ]
     },
     "metadata": {},
     "output_type": "display_data"
    }
   ],
   "source": [
    "monthly_sales.plot(kind='line', marker='o')\n",
    "plt.title('monthly sales')\n",
    "plt.ylabel('number of sales')\n",
    "plt.xlabel('month')\n",
    "plt.grid(True)\n",
    "plt.tight_layout()\n",
    "plt.savefig('line of sales distribution', dpi=300)\n",
    "plt.show()"
   ]
  },
  {
   "cell_type": "code",
   "execution_count": 58,
   "id": "2e13b037-95ee-4f35-902d-e4ea5a34f9e4",
   "metadata": {},
   "outputs": [
    {
     "data": {
      "image/png": "[encoded data removed]",
      "text/plain": [
       "<Figure size 800x800 with 1 Axes>"
      ]
     },
     "metadata": {},
     "output_type": "display_data"
    }
   ],
   "source": [
    "plt.figure(figsize=(8,8))\n",
    "plt.pie(sales_per_model, labels=sales_per_model.index, autopct='%1.1f%%', startangle=140)\n",
    "plt.title('sales Distribution by car model')\n",
    "plt.axis('equal') \n",
    "plt.tight_layout()\n",
    "plt.savefig('pie chart of sales model', dpi=300)\n",
    "plt.show()"
   ]
  },
  {
   "cell_type": "code",
   "execution_count": null,
   "id": "49598898-5fa8-490d-b923-d908b42a577e",
   "metadata": {},
   "outputs": [],
   "source": []
  }
 ],
 "metadata": {
  "kernelspec": {
   "display_name": "Python 3 (ipykernel)",
   "language": "python",
   "name": "python3"
  },
  "language_info": {
   "codemirror_mode": {
    "name": "ipython",
    "version": 3
   },
   "file_extension": ".py",
   "mimetype": "text/x-python",
   "name": "python",
   "nbconvert_exporter": "python",
   "pygments_lexer": "ipython3",
   "version": "3.13.4"
  }
 },
 "nbformat": 4,
 "nbformat_minor": 5
}
